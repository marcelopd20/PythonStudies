{
 "cells": [
  {
   "cell_type": "markdown",
   "metadata": {},
   "source": [
    "# **REDIMENSIONADOR DE LOGO**\n",
    "\n",
    "## Apenas subistitua a url na função converter\n",
    "### O arquivo sera salvo como logo_cliente.png na pasta do conversor\n"
   ]
  },
  {
   "cell_type": "code",
   "execution_count": 28,
   "metadata": {},
   "outputs": [
    {
     "ename": "ValueError",
     "evalue": "could not broadcast input array from shape (241,100,4) into shape (100,100,4)",
     "output_type": "error",
     "traceback": [
      "\u001b[1;31m---------------------------------------------------------------------------\u001b[0m",
      "\u001b[1;31mValueError\u001b[0m                                Traceback (most recent call last)",
      "\u001b[1;32mc:\\Users\\marce\\OneDrive\\Área de Trabalho\\Estudos\\resize\\conversor.ipynb Cell 2'\u001b[0m in \u001b[0;36m<cell line: 3>\u001b[1;34m()\u001b[0m\n\u001b[0;32m      <a href='vscode-notebook-cell:/c%3A/Users/marce/OneDrive/%C3%81rea%20de%20Trabalho/Estudos/resize/conversor.ipynb#ch0000000?line=0'>1</a>\u001b[0m \u001b[39mfrom\u001b[39;00m \u001b[39mresize\u001b[39;00m \u001b[39mimport\u001b[39;00m convert\n\u001b[1;32m----> <a href='vscode-notebook-cell:/c%3A/Users/marce/OneDrive/%C3%81rea%20de%20Trabalho/Estudos/resize/conversor.ipynb#ch0000000?line=2'>3</a>\u001b[0m convert(\u001b[39m\"\u001b[39;49m\u001b[39mhttps://surveygizmolibrary.s3.amazonaws.com/library/396824/LogoApemaiscor.png\u001b[39;49m\u001b[39m\"\u001b[39;49m)\n",
      "File \u001b[1;32mc:\\Users\\marce\\OneDrive\\Área de Trabalho\\Estudos\\resize\\resize.py:29\u001b[0m, in \u001b[0;36mconvert\u001b[1;34m(url)\u001b[0m\n\u001b[0;32m     <a href='file:///c%3A/Users/marce/OneDrive/%C3%81rea%20de%20Trabalho/Estudos/resize/resize.py?line=26'>27</a>\u001b[0m \u001b[39m#cola  logo\u001b[39;00m\n\u001b[0;32m     <a href='file:///c%3A/Users/marce/OneDrive/%C3%81rea%20de%20Trabalho/Estudos/resize/resize.py?line=27'>28</a>\u001b[0m x_offset \u001b[39m=\u001b[39m y_offset \u001b[39m=\u001b[39m \u001b[39m0\u001b[39m\n\u001b[1;32m---> <a href='file:///c%3A/Users/marce/OneDrive/%C3%81rea%20de%20Trabalho/Estudos/resize/resize.py?line=28'>29</a>\u001b[0m logo_cliente[y_offset:y_offset\u001b[39m+\u001b[39mscaled\u001b[39m.\u001b[39mshape[\u001b[39m0\u001b[39m], x_offset:x_offset\u001b[39m+\u001b[39mscaled\u001b[39m.\u001b[39mshape[\u001b[39m1\u001b[39m]] \u001b[39m=\u001b[39m scaled\n\u001b[0;32m     <a href='file:///c%3A/Users/marce/OneDrive/%C3%81rea%20de%20Trabalho/Estudos/resize/resize.py?line=29'>30</a>\u001b[0m \u001b[39m#salva arquivo como logo_cliente.png\u001b[39;00m\n\u001b[0;32m     <a href='file:///c%3A/Users/marce/OneDrive/%C3%81rea%20de%20Trabalho/Estudos/resize/resize.py?line=30'>31</a>\u001b[0m \u001b[39mreturn\u001b[39;00m cv2\u001b[39m.\u001b[39mimwrite(\u001b[39m'\u001b[39m\u001b[39mlogo_cliente.png\u001b[39m\u001b[39m'\u001b[39m, logo_cliente)\n",
      "\u001b[1;31mValueError\u001b[0m: could not broadcast input array from shape (241,100,4) into shape (100,100,4)"
     ]
    }
   ],
   "source": [
    "from resize import convert\n",
    "\n",
    "convert(\"")"
   ]
  }
 ],
 "metadata": {
  "interpreter": {
   "hash": "92e90bd6c5a94ac116b32daed143846700409151323ad0aa8c589766ff7ac504"
  },
  "kernelspec": {
   "display_name": "Python 3.10.4 64-bit",
   "language": "python",
   "name": "python3"
  },
  "language_info": {
   "codemirror_mode": {
    "name": "ipython",
    "version": 3
   },
   "file_extension": ".py",
   "mimetype": "text/x-python",
   "name": "python",
   "nbconvert_exporter": "python",
   "pygments_lexer": "ipython3",
   "version": "3.10.4"
  },
  "orig_nbformat": 4
 },
 "nbformat": 4,
 "nbformat_minor": 2
}
