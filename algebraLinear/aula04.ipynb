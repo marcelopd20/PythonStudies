{
 "cells": [
  {
   "cell_type": "code",
   "execution_count": 6,
   "id": "31665bd9",
   "metadata": {},
   "outputs": [
    {
     "name": "stdout",
     "output_type": "stream",
     "text": [
      "Requirement already satisfied: plot-helper in c:\\users\\marce\\anaconda3\\lib\\site-packages (0.1.2)\n",
      "Requirement already satisfied: matplotlib<4.0.0,>=3.2.2 in c:\\users\\marce\\anaconda3\\lib\\site-packages (from plot-helper) (3.5.1)\n",
      "Requirement already satisfied: numpy>=1.17 in c:\\users\\marce\\anaconda3\\lib\\site-packages (from matplotlib<4.0.0,>=3.2.2->plot-helper) (1.21.5)\n",
      "Requirement already satisfied: pillow>=6.2.0 in c:\\users\\marce\\anaconda3\\lib\\site-packages (from matplotlib<4.0.0,>=3.2.2->plot-helper) (9.0.1)\n",
      "Requirement already satisfied: kiwisolver>=1.0.1 in c:\\users\\marce\\anaconda3\\lib\\site-packages (from matplotlib<4.0.0,>=3.2.2->plot-helper) (1.3.2)\n",
      "Requirement already satisfied: pyparsing>=2.2.1 in c:\\users\\marce\\anaconda3\\lib\\site-packages (from matplotlib<4.0.0,>=3.2.2->plot-helper) (3.0.4)\n",
      "Requirement already satisfied: packaging>=20.0 in c:\\users\\marce\\anaconda3\\lib\\site-packages (from matplotlib<4.0.0,>=3.2.2->plot-helper) (21.3)\n",
      "Requirement already satisfied: fonttools>=4.22.0 in c:\\users\\marce\\anaconda3\\lib\\site-packages (from matplotlib<4.0.0,>=3.2.2->plot-helper) (4.25.0)\n",
      "Requirement already satisfied: cycler>=0.10 in c:\\users\\marce\\anaconda3\\lib\\site-packages (from matplotlib<4.0.0,>=3.2.2->plot-helper) (0.11.0)\n",
      "Requirement already satisfied: python-dateutil>=2.7 in c:\\users\\marce\\appdata\\roaming\\python\\python39\\site-packages (from matplotlib<4.0.0,>=3.2.2->plot-helper) (2.8.2)\n",
      "Requirement already satisfied: six>=1.5 in c:\\users\\marce\\appdata\\roaming\\python\\python39\\site-packages (from python-dateutil>=2.7->matplotlib<4.0.0,>=3.2.2->plot-helper) (1.16.0)\n",
      "Note: you may need to restart the kernel to use updated packages.\n"
     ]
    }
   ],
   "source": [
    "pip install plot-helper"
   ]
  },
  {
   "cell_type": "code",
   "execution_count": 8,
   "id": "ec38aff0",
   "metadata": {},
   "outputs": [],
   "source": [
    "from plot_helper import *"
   ]
  },
  {
   "cell_type": "code",
   "execution_count": 9,
   "id": "4d010ae9",
   "metadata": {},
   "outputs": [],
   "source": [
    "#Vetores se suas transformações (lineares)\n",
    "\n",
    "vetor = [(2,2)]\n",
    "origens = [(0,-1), (0, 1), (0,0), (0,2)]"
   ]
  },
  {
   "cell_type": "code",
   "execution_count": 11,
   "id": "d343e75d",
   "metadata": {},
   "outputs": [
    {
     "ename": "NameError",
     "evalue": "name 'pyplot' is not defined",
     "output_type": "error",
     "traceback": [
      "\u001b[1;31m---------------------------------------------------------------------------\u001b[0m",
      "\u001b[1;31mNameError\u001b[0m                                 Traceback (most recent call last)",
      "Input \u001b[1;32mIn [11]\u001b[0m, in \u001b[0;36m<cell line: 1>\u001b[1;34m()\u001b[0m\n\u001b[1;32m----> 1\u001b[0m \u001b[43mpyplot\u001b[49m(vetor, origens)\n",
      "\u001b[1;31mNameError\u001b[0m: name 'pyplot' is not defined"
     ]
    }
   ],
   "source": [
    "pyplot(vetor, origens)"
   ]
  },
  {
   "cell_type": "code",
   "execution_count": null,
   "id": "2098ae29",
   "metadata": {},
   "outputs": [],
   "source": []
  }
 ],
 "metadata": {
  "kernelspec": {
   "display_name": "Python 3 (ipykernel)",
   "language": "python",
   "name": "python3"
  },
  "language_info": {
   "codemirror_mode": {
    "name": "ipython",
    "version": 3
   },
   "file_extension": ".py",
   "mimetype": "text/x-python",
   "name": "python",
   "nbconvert_exporter": "python",
   "pygments_lexer": "ipython3",
   "version": "3.9.12"
  }
 },
 "nbformat": 4,
 "nbformat_minor": 5
}
