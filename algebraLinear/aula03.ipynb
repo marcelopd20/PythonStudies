{
 "cells": [
  {
   "cell_type": "code",
   "execution_count": 1,
   "id": "f4eb1a77",
   "metadata": {},
   "outputs": [],
   "source": [
    "import numpy as np"
   ]
  },
  {
   "cell_type": "code",
   "execution_count": 18,
   "id": "7add94e5",
   "metadata": {},
   "outputs": [],
   "source": [
    "a = np.array([\n",
    "    [1,5,3],\n",
    "    [3,2,1], \n",
    "    [1,1,1]\n",
    "])"
   ]
  },
  {
   "cell_type": "code",
   "execution_count": 19,
   "id": "842de842",
   "metadata": {},
   "outputs": [],
   "source": [
    "y = np.array([[1],\n",
    "             [0],\n",
    "             [1]\n",
    "])"
   ]
  },
  {
   "cell_type": "code",
   "execution_count": 20,
   "id": "72b46ea0",
   "metadata": {},
   "outputs": [
    {
     "name": "stdout",
     "output_type": "stream",
     "text": [
      "[[1 5 3]\n",
      " [3 2 1]\n",
      " [1 1 1]]\n"
     ]
    }
   ],
   "source": [
    "print(a)"
   ]
  },
  {
   "cell_type": "code",
   "execution_count": 21,
   "id": "35af1c0a",
   "metadata": {},
   "outputs": [
    {
     "name": "stdout",
     "output_type": "stream",
     "text": [
      "[[1]\n",
      " [0]\n",
      " [1]]\n"
     ]
    }
   ],
   "source": [
    "print(y)"
   ]
  },
  {
   "cell_type": "code",
   "execution_count": 8,
   "id": "5a770c25",
   "metadata": {},
   "outputs": [],
   "source": [
    "a_inv = np.linalg.inv(a)"
   ]
  },
  {
   "cell_type": "code",
   "execution_count": 9,
   "id": "4c63b761",
   "metadata": {},
   "outputs": [
    {
     "name": "stdout",
     "output_type": "stream",
     "text": [
      "[[-0.16666667  0.33333333  0.16666667]\n",
      " [ 0.33333333  0.33333333 -1.33333333]\n",
      " [-0.16666667 -0.66666667  2.16666667]]\n"
     ]
    }
   ],
   "source": [
    "print(a_inv)"
   ]
  },
  {
   "cell_type": "code",
   "execution_count": 10,
   "id": "7bd354ec",
   "metadata": {},
   "outputs": [],
   "source": [
    "#calculando resultado"
   ]
  },
  {
   "cell_type": "code",
   "execution_count": 11,
   "id": "dc92f438",
   "metadata": {},
   "outputs": [
    {
     "name": "stdout",
     "output_type": "stream",
     "text": [
      "[[ 0.]\n",
      " [-1.]\n",
      " [ 2.]]\n"
     ]
    }
   ],
   "source": [
    "x = np.dot(a_inv, y)\n",
    "print(x)"
   ]
  },
  {
   "cell_type": "code",
   "execution_count": 24,
   "id": "02433206",
   "metadata": {},
   "outputs": [
    {
     "name": "stdout",
     "output_type": "stream",
     "text": [
      "[[-7.40148683e-17]\n",
      " [-1.00000000e+00]\n",
      " [ 2.00000000e+00]]\n"
     ]
    }
   ],
   "source": [
    "#resolvendo de forma alternativa\n",
    "\n",
    "x = np.linalg.solve(a,y)\n",
    "print(x)"
   ]
  },
  {
   "cell_type": "code",
   "execution_count": 26,
   "id": "36532d6c",
   "metadata": {},
   "outputs": [],
   "source": [
    "#Determinantes\n",
    "\n",
    "m = np.array([\n",
    "    [1,0,1],\n",
    "    [2,2,2],\n",
    "    [-1,4,-2]\n",
    "])"
   ]
  },
  {
   "cell_type": "code",
   "execution_count": 27,
   "id": "e917a8cc",
   "metadata": {},
   "outputs": [
    {
     "name": "stdout",
     "output_type": "stream",
     "text": [
      "[[ 1  0  1]\n",
      " [ 2  2  2]\n",
      " [-1  4 -2]]\n"
     ]
    }
   ],
   "source": [
    "print(m)"
   ]
  },
  {
   "cell_type": "code",
   "execution_count": 28,
   "id": "e35697a8",
   "metadata": {},
   "outputs": [],
   "source": [
    "det =  np.linalg.det(m)"
   ]
  },
  {
   "cell_type": "code",
   "execution_count": 29,
   "id": "38a50e67",
   "metadata": {},
   "outputs": [
    {
     "name": "stdout",
     "output_type": "stream",
     "text": [
      "-1.9999999999999998\n"
     ]
    }
   ],
   "source": [
    "print(det)"
   ]
  },
  {
   "cell_type": "code",
   "execution_count": 30,
   "id": "6e0cfea7",
   "metadata": {},
   "outputs": [],
   "source": [
    "import math as m"
   ]
  },
  {
   "cell_type": "code",
   "execution_count": 31,
   "id": "8c694539",
   "metadata": {},
   "outputs": [
    {
     "name": "stdout",
     "output_type": "stream",
     "text": [
      "-1\n"
     ]
    }
   ],
   "source": [
    "print(m.ceil(det))"
   ]
  },
  {
   "cell_type": "code",
   "execution_count": 32,
   "id": "2c7c34ce",
   "metadata": {},
   "outputs": [
    {
     "name": "stdout",
     "output_type": "stream",
     "text": [
      "-2\n"
     ]
    }
   ],
   "source": [
    "print(round(det))"
   ]
  },
  {
   "cell_type": "code",
   "execution_count": null,
   "id": "4d852b21",
   "metadata": {},
   "outputs": [],
   "source": []
  }
 ],
 "metadata": {
  "kernelspec": {
   "display_name": "Python 3 (ipykernel)",
   "language": "python",
   "name": "python3"
  },
  "language_info": {
   "codemirror_mode": {
    "name": "ipython",
    "version": 3
   },
   "file_extension": ".py",
   "mimetype": "text/x-python",
   "name": "python",
   "nbconvert_exporter": "python",
   "pygments_lexer": "ipython3",
   "version": "3.9.12"
  }
 },
 "nbformat": 4,
 "nbformat_minor": 5
}
