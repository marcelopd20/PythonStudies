{
 "cells": [
  {
   "cell_type": "code",
   "execution_count": 1,
   "id": "bf534098",
   "metadata": {},
   "outputs": [],
   "source": [
    "import numpy as np"
   ]
  },
  {
   "cell_type": "code",
   "execution_count": 2,
   "id": "57f74bac",
   "metadata": {},
   "outputs": [],
   "source": [
    "matriz = np.array([[1,0,0,1],\n",
    "                   [2,2,2,5],\n",
    "                   [-3,2,0,0],\n",
    "                   [1,0,-1,4]])"
   ]
  },
  {
   "cell_type": "code",
   "execution_count": 3,
   "id": "9221de16",
   "metadata": {},
   "outputs": [
    {
     "data": {
      "text/plain": [
       "array([[ 1,  0,  0,  1],\n",
       "       [ 2,  2,  2,  5],\n",
       "       [-3,  2,  0,  0],\n",
       "       [ 1,  0, -1,  4]])"
      ]
     },
     "execution_count": 3,
     "metadata": {},
     "output_type": "execute_result"
    }
   ],
   "source": [
    "matriz"
   ]
  },
  {
   "cell_type": "code",
   "execution_count": 4,
   "id": "6c320480",
   "metadata": {},
   "outputs": [
    {
     "name": "stdout",
     "output_type": "stream",
     "text": [
      "[[ 1  0  0  1]\n",
      " [ 2  2  2  5]\n",
      " [-3  2  0  0]\n",
      " [ 1  0 -1  4]]\n"
     ]
    }
   ],
   "source": [
    "print(matriz)"
   ]
  },
  {
   "cell_type": "code",
   "execution_count": 5,
   "id": "5947b694",
   "metadata": {},
   "outputs": [],
   "source": [
    "matriz2 = np.array([[1,0,3,1],\n",
    "                   [2,2,2,5],\n",
    "                   [-1,3,0,0],\n",
    "                   [9,0,-1,4]])"
   ]
  },
  {
   "cell_type": "code",
   "execution_count": 6,
   "id": "2f5edac1",
   "metadata": {},
   "outputs": [
    {
     "data": {
      "text/plain": [
       "array([[ 1,  0,  3,  1],\n",
       "       [ 2,  2,  2,  5],\n",
       "       [-1,  3,  0,  0],\n",
       "       [ 9,  0, -1,  4]])"
      ]
     },
     "execution_count": 6,
     "metadata": {},
     "output_type": "execute_result"
    }
   ],
   "source": [
    "matriz2"
   ]
  },
  {
   "cell_type": "code",
   "execution_count": 7,
   "id": "00d66ce8",
   "metadata": {},
   "outputs": [
    {
     "name": "stdout",
     "output_type": "stream",
     "text": [
      "[[ 1  0  3  1]\n",
      " [ 2  2  2  5]\n",
      " [-1  3  0  0]\n",
      " [ 9  0 -1  4]]\n"
     ]
    }
   ],
   "source": [
    "print(matriz2)"
   ]
  },
  {
   "cell_type": "code",
   "execution_count": 8,
   "id": "0654f916",
   "metadata": {},
   "outputs": [],
   "source": [
    "soma = matriz + matriz2"
   ]
  },
  {
   "cell_type": "code",
   "execution_count": 9,
   "id": "7e9d8325",
   "metadata": {},
   "outputs": [
    {
     "name": "stdout",
     "output_type": "stream",
     "text": [
      "[[ 2  0  3  2]\n",
      " [ 4  4  4 10]\n",
      " [-4  5  0  0]\n",
      " [10  0 -2  8]]\n"
     ]
    }
   ],
   "source": [
    "print(soma)"
   ]
  },
  {
   "cell_type": "code",
   "execution_count": 10,
   "id": "44ce2e4a",
   "metadata": {},
   "outputs": [],
   "source": [
    "sub = matriz - matriz2"
   ]
  },
  {
   "cell_type": "code",
   "execution_count": 12,
   "id": "f26b7fc8",
   "metadata": {},
   "outputs": [
    {
     "name": "stdout",
     "output_type": "stream",
     "text": [
      "[[ 0  0 -3  0]\n",
      " [ 0  0  0  0]\n",
      " [-2 -1  0  0]\n",
      " [-8  0  0  0]]\n"
     ]
    }
   ],
   "source": [
    "print(sub)"
   ]
  },
  {
   "cell_type": "code",
   "execution_count": 13,
   "id": "a6512c86",
   "metadata": {},
   "outputs": [],
   "source": [
    "mult_escalar = matriz * 3"
   ]
  },
  {
   "cell_type": "code",
   "execution_count": 14,
   "id": "2e019f98",
   "metadata": {},
   "outputs": [
    {
     "name": "stdout",
     "output_type": "stream",
     "text": [
      "[[ 3  0  0  3]\n",
      " [ 6  6  6 15]\n",
      " [-9  6  0  0]\n",
      " [ 3  0 -3 12]]\n"
     ]
    }
   ],
   "source": [
    "print(mult_escalar)"
   ]
  },
  {
   "cell_type": "code",
   "execution_count": 15,
   "id": "c6a31655",
   "metadata": {},
   "outputs": [],
   "source": [
    "div = matriz / 2"
   ]
  },
  {
   "cell_type": "code",
   "execution_count": 16,
   "id": "cc3bfc6d",
   "metadata": {},
   "outputs": [
    {
     "name": "stdout",
     "output_type": "stream",
     "text": [
      "[[ 0.5  0.   0.   0.5]\n",
      " [ 1.   1.   1.   2.5]\n",
      " [-1.5  1.   0.   0. ]\n",
      " [ 0.5  0.  -0.5  2. ]]\n"
     ]
    }
   ],
   "source": [
    "print(div)"
   ]
  },
  {
   "cell_type": "code",
   "execution_count": 17,
   "id": "c1ebf1bd",
   "metadata": {},
   "outputs": [],
   "source": [
    "m = np.dot(matriz, matriz2)"
   ]
  },
  {
   "cell_type": "code",
   "execution_count": 18,
   "id": "7e8659d9",
   "metadata": {},
   "outputs": [
    {
     "name": "stdout",
     "output_type": "stream",
     "text": [
      "[[10  0  2  5]\n",
      " [49 10  5 32]\n",
      " [ 1  4 -5  7]\n",
      " [38 -3 -1 17]]\n"
     ]
    }
   ],
   "source": [
    "print(m)"
   ]
  },
  {
   "cell_type": "code",
   "execution_count": null,
   "id": "2d2328a1",
   "metadata": {},
   "outputs": [],
   "source": []
  }
 ],
 "metadata": {
  "kernelspec": {
   "display_name": "Python 3 (ipykernel)",
   "language": "python",
   "name": "python3"
  },
  "language_info": {
   "codemirror_mode": {
    "name": "ipython",
    "version": 3
   },
   "file_extension": ".py",
   "mimetype": "text/x-python",
   "name": "python",
   "nbconvert_exporter": "python",
   "pygments_lexer": "ipython3",
   "version": "3.9.12"
  }
 },
 "nbformat": 4,
 "nbformat_minor": 5
}
