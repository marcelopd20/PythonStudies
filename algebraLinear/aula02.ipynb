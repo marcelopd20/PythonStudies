{
 "cells": [
  {
   "cell_type": "code",
   "execution_count": 1,
   "id": "0ccb73af",
   "metadata": {},
   "outputs": [],
   "source": [
    "import numpy as np"
   ]
  },
  {
   "cell_type": "code",
   "execution_count": 2,
   "id": "94d0e4e1",
   "metadata": {},
   "outputs": [],
   "source": [
    " a= np.array([[0,1], [3,0]])"
   ]
  },
  {
   "cell_type": "code",
   "execution_count": 3,
   "id": "d1b76883",
   "metadata": {},
   "outputs": [
    {
     "name": "stdout",
     "output_type": "stream",
     "text": [
      "[[0 1]\n",
      " [3 0]]\n"
     ]
    }
   ],
   "source": [
    "print(a)"
   ]
  },
  {
   "cell_type": "code",
   "execution_count": 4,
   "id": "1e943c92",
   "metadata": {},
   "outputs": [],
   "source": [
    "#Matriz transposta, linhas viram colunas, colunas viram linhas"
   ]
  },
  {
   "cell_type": "code",
   "execution_count": 5,
   "id": "600da7a3",
   "metadata": {},
   "outputs": [],
   "source": [
    "t = a.transpose()"
   ]
  },
  {
   "cell_type": "code",
   "execution_count": 6,
   "id": "ae897997",
   "metadata": {},
   "outputs": [
    {
     "name": "stdout",
     "output_type": "stream",
     "text": [
      "[[0 3]\n",
      " [1 0]]\n"
     ]
    }
   ],
   "source": [
    "print(t)"
   ]
  },
  {
   "cell_type": "code",
   "execution_count": 7,
   "id": "64536eb3",
   "metadata": {},
   "outputs": [],
   "source": [
    "#Operador T"
   ]
  },
  {
   "cell_type": "code",
   "execution_count": 8,
   "id": "f889689c",
   "metadata": {},
   "outputs": [],
   "source": [
    "r = a.T"
   ]
  },
  {
   "cell_type": "code",
   "execution_count": 9,
   "id": "83f65fa1",
   "metadata": {},
   "outputs": [
    {
     "name": "stdout",
     "output_type": "stream",
     "text": [
      "[[0 3]\n",
      " [1 0]]\n"
     ]
    }
   ],
   "source": [
    "print(r)"
   ]
  },
  {
   "cell_type": "code",
   "execution_count": 10,
   "id": "cce478ff",
   "metadata": {},
   "outputs": [
    {
     "data": {
      "text/plain": [
       "[[1, 0, 0], [0, 1, 0], [0, 0, 1]]"
      ]
     },
     "execution_count": 10,
     "metadata": {},
     "output_type": "execute_result"
    }
   ],
   "source": [
    "#Matriz identidade -> Matriz quadrada , n de linhas = n de colunas\n",
    "# A diagonal princiapl é opara todos os elemtnos, o restante é igual a zero\n",
    "[ \n",
    "    [1,0,0],\n",
    "    [0,1,0],\n",
    "    [0,0,1]\n",
    "]"
   ]
  },
  {
   "cell_type": "code",
   "execution_count": 11,
   "id": "e1b59586",
   "metadata": {},
   "outputs": [],
   "source": [
    "id = np.eye(3)"
   ]
  },
  {
   "cell_type": "code",
   "execution_count": 12,
   "id": "1ef0aa5e",
   "metadata": {},
   "outputs": [
    {
     "name": "stdout",
     "output_type": "stream",
     "text": [
      "[[1. 0. 0.]\n",
      " [0. 1. 0.]\n",
      " [0. 0. 1.]]\n"
     ]
    }
   ],
   "source": [
    "print(id)"
   ]
  },
  {
   "cell_type": "code",
   "execution_count": 13,
   "id": "42ab4728",
   "metadata": {},
   "outputs": [],
   "source": [
    "id10 = np.eye(10)"
   ]
  },
  {
   "cell_type": "code",
   "execution_count": 14,
   "id": "169754f2",
   "metadata": {},
   "outputs": [
    {
     "name": "stdout",
     "output_type": "stream",
     "text": [
      "[[1. 0. 0. 0. 0. 0. 0. 0. 0. 0.]\n",
      " [0. 1. 0. 0. 0. 0. 0. 0. 0. 0.]\n",
      " [0. 0. 1. 0. 0. 0. 0. 0. 0. 0.]\n",
      " [0. 0. 0. 1. 0. 0. 0. 0. 0. 0.]\n",
      " [0. 0. 0. 0. 1. 0. 0. 0. 0. 0.]\n",
      " [0. 0. 0. 0. 0. 1. 0. 0. 0. 0.]\n",
      " [0. 0. 0. 0. 0. 0. 1. 0. 0. 0.]\n",
      " [0. 0. 0. 0. 0. 0. 0. 1. 0. 0.]\n",
      " [0. 0. 0. 0. 0. 0. 0. 0. 1. 0.]\n",
      " [0. 0. 0. 0. 0. 0. 0. 0. 0. 1.]]\n"
     ]
    }
   ],
   "source": [
    "print(id10)"
   ]
  },
  {
   "cell_type": "code",
   "execution_count": 15,
   "id": "cd458ac3",
   "metadata": {},
   "outputs": [],
   "source": [
    "#Matriz inversa\n"
   ]
  },
  {
   "cell_type": "markdown",
   "id": "afae817c",
   "metadata": {},
   "source": [
    "$$A . A^{-1} = I$$"
   ]
  },
  {
   "cell_type": "code",
   "execution_count": 16,
   "id": "d6d66f37",
   "metadata": {},
   "outputs": [],
   "source": [
    "b = np.array([[0,1], [3,0]])"
   ]
  },
  {
   "cell_type": "code",
   "execution_count": 17,
   "id": "d5ad3b28",
   "metadata": {},
   "outputs": [],
   "source": [
    "i = np.eye(2)"
   ]
  },
  {
   "cell_type": "code",
   "execution_count": 23,
   "id": "2afa42a7",
   "metadata": {},
   "outputs": [],
   "source": [
    "#calculando a inversa\n",
    "b_inv = np.linalg.inv(b)"
   ]
  },
  {
   "cell_type": "code",
   "execution_count": 24,
   "id": "25281fd9",
   "metadata": {},
   "outputs": [
    {
     "name": "stdout",
     "output_type": "stream",
     "text": [
      "[[0 1]\n",
      " [3 0]]\n"
     ]
    }
   ],
   "source": [
    "print(b)"
   ]
  },
  {
   "cell_type": "code",
   "execution_count": 25,
   "id": "c2323504",
   "metadata": {},
   "outputs": [
    {
     "name": "stdout",
     "output_type": "stream",
     "text": [
      "[[0 1]\n",
      " [3 0]]\n",
      "\n",
      "[[0.         0.33333333]\n",
      " [1.         0.        ]]\n"
     ]
    }
   ],
   "source": [
    "print(b)\n",
    "print()\n",
    "print(b_inv)"
   ]
  },
  {
   "cell_type": "code",
   "execution_count": 26,
   "id": "f1aca6db",
   "metadata": {},
   "outputs": [
    {
     "name": "stdout",
     "output_type": "stream",
     "text": [
      "[[0.         0.33333333]\n",
      " [3.         0.        ]]\n"
     ]
    }
   ],
   "source": [
    "print(b*b_inv)"
   ]
  },
  {
   "cell_type": "code",
   "execution_count": null,
   "id": "1a0e4ded",
   "metadata": {},
   "outputs": [],
   "source": []
  }
 ],
 "metadata": {
  "kernelspec": {
   "display_name": "Python 3 (ipykernel)",
   "language": "python",
   "name": "python3"
  },
  "language_info": {
   "codemirror_mode": {
    "name": "ipython",
    "version": 3
   },
   "file_extension": ".py",
   "mimetype": "text/x-python",
   "name": "python",
   "nbconvert_exporter": "python",
   "pygments_lexer": "ipython3",
   "version": "3.9.12"
  }
 },
 "nbformat": 4,
 "nbformat_minor": 5
}
